{
 "cells": [
  {
   "cell_type": "code",
   "execution_count": 2,
   "metadata": {},
   "outputs": [
    {
     "ename": "FileNotFoundError",
     "evalue": "[Errno 2] No such file or directory: 'pos.txt'",
     "output_type": "error",
     "traceback": [
      "\u001b[1;31m---------------------------------------------------------------------------\u001b[0m",
      "\u001b[1;31mFileNotFoundError\u001b[0m                         Traceback (most recent call last)",
      "\u001b[1;32m<ipython-input-2-9ed2b6429cc0>\u001b[0m in \u001b[0;36m<module>\u001b[1;34m()\u001b[0m\n\u001b[0;32m     11\u001b[0m \u001b[0mpos\u001b[0m\u001b[1;33m=\u001b[0m\u001b[1;33m[\u001b[0m\u001b[1;33m]\u001b[0m\u001b[1;33m\u001b[0m\u001b[0m\n\u001b[0;32m     12\u001b[0m \u001b[0mpos_temp\u001b[0m \u001b[1;33m=\u001b[0m\u001b[1;33m[\u001b[0m\u001b[1;33m]\u001b[0m\u001b[1;33m\u001b[0m\u001b[0m\n\u001b[1;32m---> 13\u001b[1;33m \u001b[0mf\u001b[0m \u001b[1;33m=\u001b[0m \u001b[0mopen\u001b[0m\u001b[1;33m(\u001b[0m\u001b[1;34m\"pos.txt\"\u001b[0m\u001b[1;33m,\u001b[0m\u001b[1;34m\"r\"\u001b[0m\u001b[1;33m)\u001b[0m\u001b[1;33m\u001b[0m\u001b[0m\n\u001b[0m\u001b[0;32m     14\u001b[0m \u001b[0mi\u001b[0m\u001b[1;33m=\u001b[0m\u001b[1;36m0\u001b[0m\u001b[1;33m\u001b[0m\u001b[0m\n\u001b[0;32m     15\u001b[0m \u001b[1;32mfor\u001b[0m \u001b[0mlines\u001b[0m \u001b[1;32min\u001b[0m \u001b[0mf\u001b[0m\u001b[1;33m:\u001b[0m\u001b[1;33m\u001b[0m\u001b[0m\n",
      "\u001b[1;31mFileNotFoundError\u001b[0m: [Errno 2] No such file or directory: 'pos.txt'"
     ]
    }
   ],
   "source": [
    "# %matplotlib notebook\n",
    "import numpy as np\n",
    "import matplotlib.pyplot as plt\n",
    "import mpl_toolkits\n",
    "from mpl_toolkits import mplot3d\n",
    "import re\n",
    "import matplotlib.animation\n",
    "\n",
    "#time = []\n",
    "time = np.linspace(0,20,1000)\n",
    "pos=[]\n",
    "pos_temp =[]\n",
    "f = open(\"pos.txt\",\"r\")\n",
    "i=0\n",
    "for lines in f:\n",
    "    if lines.startswith(\"t\"):\n",
    "        tline = lines.strip()\n",
    "        t=float(''.join(re.findall('\\d*\\.?\\d+',tline)))\n",
    "        #time.append(t)\n",
    "    elif lines.startswith(\"\\n\"):\n",
    "       #print(pos_temp)\n",
    "        pos.append(pos_temp)\n",
    "        pos_temp =[]\n",
    "\n",
    "    else:\n",
    "        lines=lines.strip()\n",
    "        lines= lines.split()\n",
    "        lines = list(map(float, lines))\n",
    "        pos_temp.append(lines)\n",
    "\n",
    "def animation(p):\n",
    "    current_X = []\n",
    "    current_Y = []\n",
    "    current_Z = []\n",
    "    current_time = time[p]\n",
    "    current_positions = pos[p]\n",
    "    for q in range(0,len(current_positions)):\n",
    "        current_X.append(pos[p][q][0])\n",
    "        current_Y.append(pos[p][q][1])\n",
    "        current_Z.append(pos[p][q][2])\n",
    "\n",
    "    if (p!=0):\n",
    "        graph._offsets3d = (current_X,current_Y,current_Z)\n",
    "    else:\n",
    "        pass\n",
    "\n",
    "    return current_X,current_Y,current_Z\n",
    "    print(current_time,current_positions,\"\\n\",current_X,current_Y,current_Z,\"\\n\")\n",
    "\n",
    "\n",
    "fig =plt.figure()\n",
    "ax =fig.add_subplot(111,projection='3d')\n",
    "p = np.arange(1,len(time))\n",
    "init_graph = animation(0)\n",
    "graph = ax.scatter(init_graph[0],init_graph[1],init_graph[2],c='r',marker='o')\n",
    "\n",
    "\n",
    "ax.set_xlabel('x axis')\n",
    "ax.set_ylabel('y axis')\n",
    "ax.set_zlabel('z axis')\n",
    "ax.set_xlim(-100, 100)\n",
    "ax.set_ylim(-100, 100)\n",
    "ax.set_zlim(-100, 100)\n",
    "ani = matplotlib.animation.FuncAnimation(fig,animation,p,interval=10, blit=True)\n",
    "plt.show()"
   ]
  },
  {
   "cell_type": "code",
   "execution_count": null,
   "metadata": {},
   "outputs": [],
   "source": []
  }
 ],
 "metadata": {
  "kernelspec": {
   "display_name": "Python 3",
   "language": "python",
   "name": "python3"
  }
 },
 "nbformat": 4,
 "nbformat_minor": 2
}
